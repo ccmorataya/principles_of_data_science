{
 "cells": [
  {
   "cell_type": "markdown",
   "metadata": {},
   "source": [
    "# How to sound like a data scientist"
   ]
  },
  {
   "cell_type": "markdown",
   "metadata": {},
   "source": [
    "## The data science Venn diagram"
   ]
  },
  {
   "cell_type": "markdown",
   "metadata": {},
   "source": [
    "### Parsing a single tweet"
   ]
  },
  {
   "cell_type": "code",
   "execution_count": 1,
   "metadata": {},
   "outputs": [],
   "source": [
    "tweet = \"RT @j_o_n_dnger: $TWTR now top holding for Andor, unseating $AAPL\""
   ]
  },
  {
   "cell_type": "code",
   "execution_count": 2,
   "metadata": {},
   "outputs": [],
   "source": [
    "words_in_tweet = tweet.split(\" \") # list words in tweet spliting by space"
   ]
  },
  {
   "cell_type": "code",
   "execution_count": 4,
   "metadata": {},
   "outputs": [
    {
     "name": "stdout",
     "output_type": "stream",
     "text": [
      "('THIS TWEET IS ABOUT', '$TWTR')\n",
      "('THIS TWEET IS ABOUT', '$AAPL')\n"
     ]
    }
   ],
   "source": [
    "for word in words_in_tweet:             # CM:: for each word in list\n",
    "    if \"$\" in word:                     # CM:: if word has a \"cashtag\"\n",
    "        print(\"THIS TWEET IS ABOUT\", word)  # CM::print the match"
   ]
  },
  {
   "cell_type": "code",
   "execution_count": 5,
   "metadata": {},
   "outputs": [
    {
     "data": {
      "text/plain": [
       "['RT',\n",
       " '@j_o_n_dnger:',\n",
       " '$TWTR',\n",
       " 'now',\n",
       " 'top',\n",
       " 'holding',\n",
       " 'for',\n",
       " 'Andor,',\n",
       " 'unseating',\n",
       " '$AAPL']"
      ]
     },
     "execution_count": 5,
     "metadata": {},
     "output_type": "execute_result"
    }
   ],
   "source": [
    "words_in_tweet"
   ]
  },
  {
   "cell_type": "markdown",
   "metadata": {},
   "source": [
    "## Data science case studies"
   ]
  },
  {
   "cell_type": "markdown",
   "metadata": {},
   "source": [
    "### Case study - marketing dollars"
   ]
  },
  {
   "cell_type": "code",
   "execution_count": 3,
   "metadata": {},
   "outputs": [],
   "source": [
    "import pandas as pd"
   ]
  },
  {
   "cell_type": "code",
   "execution_count": 4,
   "metadata": {},
   "outputs": [],
   "source": [
    "data = {\n",
    "    'TV': [230.1, 44.5, 17.2, 151.5, 180.8],\n",
    "    'Radio': [37.8, 39.3, 45.9, 41.3, 10.8],\n",
    "    'Newspaper': [69.2, 45.1, 69.3, 58.5, 58.4],\n",
    "    'Sales': [22.1, 10.4, 9.3, 18.5, 12.9]\n",
    "}"
   ]
  },
  {
   "cell_type": "code",
   "execution_count": 5,
   "metadata": {},
   "outputs": [],
   "source": [
    "df = pd.DataFrame(data)"
   ]
  },
  {
   "cell_type": "code",
   "execution_count": 6,
   "metadata": {},
   "outputs": [
    {
     "name": "stdout",
     "output_type": "stream",
     "text": [
      "   Newspaper  Radio  Sales     TV\n",
      "0       69.2   37.8   22.1  230.1\n",
      "1       45.1   39.3   10.4   44.5\n",
      "2       69.3   45.9    9.3   17.2\n",
      "3       58.5   41.3   18.5  151.5\n",
      "4       58.4   10.8   12.9  180.8\n"
     ]
    }
   ],
   "source": [
    "print(df)"
   ]
  },
  {
   "cell_type": "code",
   "execution_count": 7,
   "metadata": {},
   "outputs": [],
   "source": [
    "import seaborn as sns"
   ]
  },
  {
   "cell_type": "code",
   "execution_count": 8,
   "metadata": {},
   "outputs": [
    {
     "data": {
      "text/plain": [
       "<seaborn.axisgrid.PairGrid at 0x7fe99220e590>"
      ]
     },
     "execution_count": 8,
     "metadata": {},
     "output_type": "execute_result"
    },
    {
     "data": {
      "image/png": "[encoded data removed]",
      "text/plain": [
       "<Figure size 540x180 with 3 Axes>"
      ]
     },
     "metadata": {
      "needs_background": "light"
     },
     "output_type": "display_data"
    }
   ],
   "source": [
    "sns.pairplot(df, x_vars=['TV', 'Radio', 'Newspaper'], y_vars='Sales')"
   ]
  },
  {
   "cell_type": "markdown",
   "metadata": {},
   "source": [
    "### Case study - what's in a job description?"
   ]
  },
  {
   "cell_type": "code",
   "execution_count": 1,
   "metadata": {},
   "outputs": [],
   "source": [
    "import requests"
   ]
  },
  {
   "cell_type": "code",
   "execution_count": 3,
   "metadata": {},
   "outputs": [],
   "source": [
    "from bs4 import BeautifulSoup"
   ]
  },
  {
   "cell_type": "code",
   "execution_count": 4,
   "metadata": {},
   "outputs": [],
   "source": [
    "from sklearn.feature_extraction.text import CountVectorizer"
   ]
  },
  {
   "cell_type": "code",
   "execution_count": 19,
   "metadata": {},
   "outputs": [],
   "source": [
    "texts = []\n",
    "\n",
    "for index in range(0,1000,10):\n",
    "    page = \"https://indeed.com/jobs?q=data+scientist&start=\" + str(index)\n",
    "    \n",
    "    web_result = requests.get(page).text\n",
    "    \n",
    "    soup = BeautifulSoup(web_result)\n",
    "    \n",
    "    for listing in soup.findAll(\"div\", {\"class\": \"summary\"}):\n",
    "        texts.append(listing.text)"
   ]
  },
  {
   "cell_type": "code",
   "execution_count": 20,
   "metadata": {},
   "outputs": [
    {
     "data": {
      "text/plain": [
       "1000"
      ]
     },
     "execution_count": 20,
     "metadata": {},
     "output_type": "execute_result"
    }
   ],
   "source": [
    "len(texts)"
   ]
  },
  {
   "cell_type": "code",
   "execution_count": 24,
   "metadata": {},
   "outputs": [
    {
     "name": "stdout",
     "output_type": "stream",
     "text": [
      "9808\n",
      "(u'data', 802)\n",
      "(u'learning', 514)\n",
      "(u'machine', 474)\n",
      "(u'machine learning', 449)\n",
      "(u'analytics', 308)\n",
      "(u'experience', 281)\n",
      "(u'science', 149)\n",
      "(u'statistical', 138)\n",
      "(u'python', 129)\n",
      "(u'business', 127)\n",
      "(u'techniques', 125)\n",
      "(u'team', 118)\n",
      "(u'scientists', 113)\n",
      "(u'insights', 112)\n",
      "(u'work', 109)\n",
      "(u'analysis', 109)\n",
      "(u'sql', 108)\n",
      "(u'mining', 107)\n",
      "(u'statistics', 106)\n",
      "(u'deep', 102)\n",
      "(u'advanced', 101)\n",
      "(u'data scientists', 99)\n",
      "(u'data mining', 95)\n",
      "(u'years', 92)\n",
      "(u'using', 92)\n"
     ]
    }
   ],
   "source": [
    "vect = CountVectorizer(ngram_range=(1, 2), stop_words=\"english\")\n",
    "\n",
    "matrix = vect.fit_transform(texts)\n",
    "\n",
    "print(len(vect.get_feature_names()))\n",
    "\n",
    "freqs = [\n",
    "    (word, matrix.getcol(idx).sum()) for word, idx in vect.vocabulary_.items()\n",
    "]\n",
    "\n",
    "for phrase, times in sorted(freqs, key = lambda x: -x[1])[:25]:\n",
    "    print(phrase, times)"
   ]
  }
 ],
 "metadata": {
  "kernelspec": {
   "display_name": "Python 2",
   "language": "python",
   "name": "python2"
  },
  "language_info": {
   "codemirror_mode": {
    "name": "ipython",
    "version": 2
   },
   "file_extension": ".py",
   "mimetype": "text/x-python",
   "name": "python",
   "nbconvert_exporter": "python",
   "pygments_lexer": "ipython2",
   "version": "2.7.16"
  }
 },
 "nbformat": 4,
 "nbformat_minor": 2
}
