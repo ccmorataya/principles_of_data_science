{
 "cells": [
  {
   "cell_type": "markdown",
   "metadata": {},
   "source": [
    "## Structured versus unstructured data"
   ]
  },
  {
   "cell_type": "markdown",
   "metadata": {},
   "source": [
    "### Example of data preprocessing"
   ]
  },
  {
   "cell_type": "code",
   "execution_count": 4,
   "metadata": {},
   "outputs": [],
   "source": [
    "from sklearn.feature_extraction.text import CountVectorizer"
   ]
  },
  {
   "cell_type": "code",
   "execution_count": 5,
   "metadata": {},
   "outputs": [],
   "source": [
    "sentence = \"This Wednesday morn, are you early to rise? Then look East. The Crescent Moon joins Venus & Saturn. Afloat in the dawn skies\""
   ]
  },
  {
   "cell_type": "code",
   "execution_count": 6,
   "metadata": {},
   "outputs": [],
   "source": [
    "vectorizer = CountVectorizer(ngram_range=(1, 2), stop_words=\"english\")"
   ]
  },
  {
   "cell_type": "code",
   "execution_count": 8,
   "metadata": {},
   "outputs": [
    {
     "name": "stdout",
     "output_type": "stream",
     "text": [
      "(u'east', 1)\n",
      "(u'afloat', 1)\n",
      "(u'look', 1)\n",
      "(u'rise', 1)\n",
      "(u'wednesday', 1)\n",
      "(u'moon', 1)\n",
      "(u'early', 1)\n",
      "(u'morn', 1)\n",
      "(u'crescent', 1)\n",
      "(u'joins', 1)\n",
      "(u'venus', 1)\n",
      "(u'saturn', 1)\n",
      "(u'dawn', 1)\n",
      "(u'skies', 1)\n",
      "124\n"
     ]
    }
   ],
   "source": [
    "splited_sentence = sentence.split(\" \")\n",
    "X = vectorizer.fit_transform(splited_sentence)\n",
    "# print(vectorizer.get_feature_names())\n",
    "freqs = [\n",
    "    (word, X.getcol(idx).sum()) for word, idx in vectorizer.vocabulary_.items()\n",
    "]\n",
    "\n",
    "for phrase, times in sorted(freqs, key = lambda x: -x[1])[:25]:\n",
    "    print(phrase, times)\n",
    "    \n",
    "print(len(sentence))"
   ]
  },
  {
   "cell_type": "code",
   "execution_count": 9,
   "metadata": {},
   "outputs": [
    {
     "name": "stdout",
     "output_type": "stream",
     "text": [
      "4.13333333333\n"
     ]
    }
   ],
   "source": [
    "# relative length\n",
    "print(len(sentence)/30.0)"
   ]
  }
 ],
 "metadata": {
  "kernelspec": {
   "display_name": "Python 2",
   "language": "python",
   "name": "python2"
  },
  "language_info": {
   "codemirror_mode": {
    "name": "ipython",
    "version": 2
   },
   "file_extension": ".py",
   "mimetype": "text/x-python",
   "name": "python",
   "nbconvert_exporter": "python",
   "pygments_lexer": "ipython2",
   "version": "2.7.16"
  }
 },
 "nbformat": 4,
 "nbformat_minor": 2
}
